{
 "cells": [
  {
   "cell_type": "code",
   "execution_count": 85,
   "id": "7efa5f26",
   "metadata": {},
   "outputs": [],
   "source": [
    "import numpy as np\n",
    "import matplotlib.pyplot as plt\n",
    "import pandas as pd"
   ]
  },
  {
   "cell_type": "code",
   "execution_count": 86,
   "id": "4cfe4891",
   "metadata": {},
   "outputs": [],
   "source": [
    "Data = pd.read_csv('D:\\\\New folder\\\\P1DATA.csv')\n",
    "X = Data.iloc[:, 0:3].values\n",
    "y = Data.iloc[:, 3:].values"
   ]
  },
  {
   "cell_type": "code",
   "execution_count": 87,
   "id": "efc2dcfe",
   "metadata": {},
   "outputs": [
    {
     "name": "stdout",
     "output_type": "stream",
     "text": [
      "[['Milk' 200.0 24.0]\n",
      " ['Bread' 150.0 34.0]\n",
      " ['Choclate' 45.0 45.0]\n",
      " ['Cake' nan 18.0]\n",
      " ['Biscuite' 150.0 nan]\n",
      " ['Milk' 200.0 20.0]\n",
      " ['Choclate' 45.0 31.0]\n",
      " ['Biscuite' 150.0 nan]\n",
      " ['Bread' 150.0 19.0]]\n"
     ]
    }
   ],
   "source": [
    "print(X)"
   ]
  },
  {
   "cell_type": "code",
   "execution_count": 88,
   "id": "30be8a9d",
   "metadata": {},
   "outputs": [
    {
     "name": "stdout",
     "output_type": "stream",
     "text": [
      "[['yes']\n",
      " ['yes']\n",
      " ['yes']\n",
      " ['yes']\n",
      " ['no']\n",
      " ['no']\n",
      " ['yes']\n",
      " ['yes']\n",
      " ['no']]\n"
     ]
    }
   ],
   "source": [
    "print(y)"
   ]
  },
  {
   "cell_type": "code",
   "execution_count": 89,
   "id": "99237d1c",
   "metadata": {},
   "outputs": [
    {
     "name": "stdout",
     "output_type": "stream",
     "text": [
      "Product name    0\n",
      "Price           1\n",
      "Age             2\n",
      "Purchased       0\n",
      "dtype: int64\n"
     ]
    }
   ],
   "source": [
    "print(Data.isnull().sum())"
   ]
  },
  {
   "cell_type": "code",
   "execution_count": 90,
   "id": "92710f7f",
   "metadata": {},
   "outputs": [],
   "source": [
    "from sklearn.impute import SimpleImputer\n",
    "imputer = SimpleImputer(missing_values=np.nan, strategy='mean')\n",
    "imputer.fit(X[:, 1:3])\n",
    "X[:, 1:3] = imputer.transform(X[:, 1:3])"
   ]
  },
  {
   "cell_type": "code",
   "execution_count": 91,
   "id": "3c2968a9",
   "metadata": {},
   "outputs": [
    {
     "name": "stdout",
     "output_type": "stream",
     "text": [
      "[['Milk' 200.0 24.0]\n",
      " ['Bread' 150.0 34.0]\n",
      " ['Choclate' 45.0 45.0]\n",
      " ['Cake' 136.25 18.0]\n",
      " ['Biscuite' 150.0 27.285714285714285]\n",
      " ['Milk' 200.0 20.0]\n",
      " ['Choclate' 45.0 31.0]\n",
      " ['Biscuite' 150.0 27.285714285714285]\n",
      " ['Bread' 150.0 19.0]]\n"
     ]
    }
   ],
   "source": [
    "print(X)"
   ]
  },
  {
   "cell_type": "code",
   "execution_count": 92,
   "id": "cf92a5e7",
   "metadata": {},
   "outputs": [],
   "source": [
    "from sklearn.compose import ColumnTransformer\n",
    "from sklearn.preprocessing import OneHotEncoder\n",
    "ct = ColumnTransformer(transformers=[('encoder', OneHotEncoder(), [0])], remainder = 'passthrough')\n",
    "X = np.array(ct.fit_transform(X))"
   ]
  },
  {
   "cell_type": "code",
   "execution_count": 93,
   "id": "c51ab170",
   "metadata": {},
   "outputs": [
    {
     "name": "stdout",
     "output_type": "stream",
     "text": [
      "[[0.0 0.0 0.0 0.0 1.0 200.0 24.0]\n",
      " [0.0 1.0 0.0 0.0 0.0 150.0 34.0]\n",
      " [0.0 0.0 0.0 1.0 0.0 45.0 45.0]\n",
      " [0.0 0.0 1.0 0.0 0.0 136.25 18.0]\n",
      " [1.0 0.0 0.0 0.0 0.0 150.0 27.285714285714285]\n",
      " [0.0 0.0 0.0 0.0 1.0 200.0 20.0]\n",
      " [0.0 0.0 0.0 1.0 0.0 45.0 31.0]\n",
      " [1.0 0.0 0.0 0.0 0.0 150.0 27.285714285714285]\n",
      " [0.0 1.0 0.0 0.0 0.0 150.0 19.0]]\n"
     ]
    }
   ],
   "source": [
    "print(X)"
   ]
  },
  {
   "cell_type": "code",
   "execution_count": 94,
   "id": "9b92abbc",
   "metadata": {},
   "outputs": [
    {
     "name": "stderr",
     "output_type": "stream",
     "text": [
      "C:\\Users\\Raza Ali\\anaconda3\\lib\\site-packages\\sklearn\\preprocessing\\_label.py:115: DataConversionWarning: A column-vector y was passed when a 1d array was expected. Please change the shape of y to (n_samples, ), for example using ravel().\n",
      "  y = column_or_1d(y, warn=True)\n"
     ]
    }
   ],
   "source": [
    "from sklearn.preprocessing import LabelEncoder\n",
    "le = LabelEncoder()\n",
    "y = le.fit_transform(y)"
   ]
  },
  {
   "cell_type": "code",
   "execution_count": 95,
   "id": "4761edc9",
   "metadata": {},
   "outputs": [
    {
     "name": "stdout",
     "output_type": "stream",
     "text": [
      "[1 1 1 1 0 0 1 1 0]\n"
     ]
    }
   ],
   "source": [
    "print(y)"
   ]
  },
  {
   "cell_type": "code",
   "execution_count": 96,
   "id": "0ed93333",
   "metadata": {},
   "outputs": [],
   "source": [
    "from sklearn.model_selection import train_test_split\n",
    "X_train , X_test , y_train , y_test = train_test_split(X, y, test_size =0.2, random_state = 1)"
   ]
  },
  {
   "cell_type": "code",
   "execution_count": 97,
   "id": "dc7bec65",
   "metadata": {},
   "outputs": [
    {
     "name": "stdout",
     "output_type": "stream",
     "text": [
      "[[0.0 0.0 0.0 1.0 0.0 45.0 31.0]\n",
      " [1.0 0.0 0.0 0.0 0.0 150.0 27.285714285714285]\n",
      " [0.0 1.0 0.0 0.0 0.0 150.0 34.0]\n",
      " [0.0 0.0 0.0 0.0 1.0 200.0 24.0]\n",
      " [1.0 0.0 0.0 0.0 0.0 150.0 27.285714285714285]\n",
      " [0.0 0.0 1.0 0.0 0.0 136.25 18.0]\n",
      " [0.0 0.0 0.0 0.0 1.0 200.0 20.0]]\n"
     ]
    }
   ],
   "source": [
    "print(X_train)"
   ]
  },
  {
   "cell_type": "code",
   "execution_count": 98,
   "id": "8c0fe3fe",
   "metadata": {},
   "outputs": [
    {
     "name": "stdout",
     "output_type": "stream",
     "text": [
      "[[0.0 1.0 0.0 0.0 0.0 150.0 19.0]\n",
      " [0.0 0.0 0.0 1.0 0.0 45.0 45.0]]\n"
     ]
    }
   ],
   "source": [
    "print(X_test)"
   ]
  },
  {
   "cell_type": "code",
   "execution_count": 99,
   "id": "c355682d",
   "metadata": {},
   "outputs": [
    {
     "name": "stdout",
     "output_type": "stream",
     "text": [
      "[1 1 1 1 0 1 0]\n"
     ]
    }
   ],
   "source": [
    "print(y_train)"
   ]
  },
  {
   "cell_type": "code",
   "execution_count": 100,
   "id": "7401e932",
   "metadata": {},
   "outputs": [
    {
     "name": "stdout",
     "output_type": "stream",
     "text": [
      "[0 1]\n"
     ]
    }
   ],
   "source": [
    "print(y_test)"
   ]
  },
  {
   "cell_type": "code",
   "execution_count": 101,
   "id": "831bcaef",
   "metadata": {},
   "outputs": [],
   "source": [
    "#using Standardization where \n",
    "# X - mean(x)/standard deviation(x)\n",
    "# X subtract mean of (X) feature divide be standard deviation of feature (x)\n",
    "from sklearn.preprocessing import StandardScaler\n",
    "sc = StandardScaler()\n",
    "X_train[:, 5:] = sc.fit_transform(X_train[:, 5:])\n",
    "X_test[:, 5:] = sc.transform(X_test[:, 5:])"
   ]
  },
  {
   "cell_type": "code",
   "execution_count": 102,
   "id": "5f013991",
   "metadata": {},
   "outputs": [
    {
     "name": "stdout",
     "output_type": "stream",
     "text": [
      "[[0.0 0.0 0.0 1.0 0.0 -2.1293318643219066 0.9557993375161659]\n",
      " [1.0 0.0 0.0 0.0 0.0 0.055741671840887345 0.25436595272607676]\n",
      " [0.0 1.0 0.0 0.0 0.0 0.055741671840887345 1.5223416867696993]\n",
      " [0.0 0.0 0.0 0.0 1.0 1.096252879537456 -0.36613281074207865]\n",
      " [1.0 0.0 0.0 0.0 0.0 0.055741671840887345 0.25436595272607676]\n",
      " [0.0 0.0 1.0 0.0 0.0 -0.230398910275669 -1.4992175092491453]\n",
      " [0.0 0.0 0.0 0.0 1.0 1.096252879537456 -1.1215226097467899]]\n"
     ]
    }
   ],
   "source": [
    "print(X_train)"
   ]
  },
  {
   "cell_type": "code",
   "execution_count": null,
   "id": "f3c6510d",
   "metadata": {},
   "outputs": [],
   "source": []
  }
 ],
 "metadata": {
  "kernelspec": {
   "display_name": "Python 3 (ipykernel)",
   "language": "python",
   "name": "python3"
  },
  "language_info": {
   "codemirror_mode": {
    "name": "ipython",
    "version": 3
   },
   "file_extension": ".py",
   "mimetype": "text/x-python",
   "name": "python",
   "nbconvert_exporter": "python",
   "pygments_lexer": "ipython3",
   "version": "3.9.12"
  }
 },
 "nbformat": 4,
 "nbformat_minor": 5
}
